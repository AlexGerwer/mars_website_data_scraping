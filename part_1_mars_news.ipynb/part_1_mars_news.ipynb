{
 "cells": [
  {
   "cell_type": "code",
   "execution_count": 1,
   "id": "d47eccd1-28d9-4f0b-bb3e-0adfdfb08a76",
   "metadata": {},
   "outputs": [],
   "source": [
    "# Module 11 Challenge\n",
    "## Deliverable 1: Scrape Titles and Preview Text from Mars News"
   ]
  },
  {
   "cell_type": "code",
   "execution_count": 2,
   "id": "7fbca8f9-c4d2-4150-a73d-74cb3d394f36",
   "metadata": {},
   "outputs": [],
   "source": [
    "# Import Splinter and BeautifulSoup\n",
    "from splinter import Browser\n",
    "from bs4 import BeautifulSoup as soup\n",
    "import json  # Import the json module"
   ]
  },
  {
   "cell_type": "code",
   "execution_count": 3,
   "id": "14a91b43-2240-4d24-8615-c4475b6b9485",
   "metadata": {},
   "outputs": [],
   "source": [
    "browser = Browser('chrome')"
   ]
  },
  {
   "cell_type": "code",
   "execution_count": 4,
   "id": "1b559280-4efa-4752-9720-0b5b456c2875",
   "metadata": {},
   "outputs": [],
   "source": [
    "### Step 1: Visit the Website\n",
    "\n",
    "# 1. Use automated browsing to visit the [Mars news site](https://static.bc-edx.com/data/web/mars_news/index.html). Inspect the page to identify which elements to scrape.\n",
    "\n",
    "#       > **Hint** To identify which elements to scrape, you might want to inspect the page by using Chrome DevTools."
   ]
  },
  {
   "cell_type": "code",
   "execution_count": 5,
   "id": "8f4330f0-baf1-4665-beff-0539bb000368",
   "metadata": {},
   "outputs": [],
   "source": [
    "# Visit the Mars news site\n",
    "url = 'https://static.bc-edx.com/data/web/mars_news/index.html'\n",
    "browser.visit(url)"
   ]
  },
  {
   "cell_type": "code",
   "execution_count": 6,
   "id": "72a2d2cf-15cc-4811-be5c-52a07e7d603d",
   "metadata": {},
   "outputs": [],
   "source": [
    "### Step 2: Scrape the Website\n",
    "\n",
    "# Create a Beautiful Soup object and use it to extract text elements from the website.\n",
    "html = browser.html\n",
    "news_soup = soup(html, 'html.parser')"
   ]
  },
  {
   "cell_type": "code",
   "execution_count": 7,
   "id": "d2274e43-61bd-4026-a210-11b867b23a6e",
   "metadata": {},
   "outputs": [],
   "source": [
    "# Extract all the text elements\n",
    "# all_text_elements = news_soup.find_all(text=True) has been depricated\n",
    "all_text_elements = news_soup.find_all(string=True)"
   ]
  },
  {
   "cell_type": "code",
   "execution_count": 8,
   "id": "adfa5a1e-6337-4a7c-902e-22a2d401c0c5",
   "metadata": {},
   "outputs": [],
   "source": [
    "### Step 3: Store the Results\n",
    "\n",
    "# Extract the titles and preview text of the news articles that you scraped. Store the scraping results in Python data structures as follows:\n",
    "\n",
    "# * Store each title-and-preview pair in a Python dictionary. And, give each dictionary two keys: `title` and `preview`. An example is the following:\n",
    "\n",
    "#   ```python\n",
    "#   {'title': \"NASA's MAVEN Observes Martian Light Show Caused by Major Solar Storm\", \n",
    "#    'preview': \"For the first time in its eight years orbiting Mars, NASA’s MAVEN mission witnessed two different types of ultraviolet aurorae simultaneously, the result of solar storms that began on Aug. 27.\"\n",
    "#   }\n",
    "#   ```\n",
    "\n",
    "# * Store all the dictionaries in a Python list.\n",
    "\n",
    "# * Print the list in your notebook."
   ]
  },
  {
   "cell_type": "code",
   "execution_count": 9,
   "id": "27517c37-8574-4426-b48d-0132bc861200",
   "metadata": {},
   "outputs": [],
   "source": [
    "# Create an empty list to store the dictionaries\n",
    "news_list = []"
   ]
  },
  {
   "cell_type": "code",
   "execution_count": 10,
   "id": "003d2dff-ae4d-4d02-8953-bd81bcea8ed4",
   "metadata": {},
   "outputs": [],
   "source": [
    "# Loop through the text elements\n",
    "# Extract the title and preview text from the elements\n",
    "# Store each title and preview pair in a dictionary\n",
    "# Add the dictionary to the list\n",
    "articles = news_soup.find_all('div', class_='list_text')\n",
    "for article in articles:\n",
    "    # Extract the title and preview text from the elements\n",
    "    title = article.find('div', class_='content_title').text.strip()\n",
    "    preview = article.find('div', class_='article_teaser_body').text.strip()\n",
    "    # Store each title and preview pair in a dictionary\n",
    "    news_dict = {\n",
    "        'title': title,\n",
    "        'preview': preview\n",
    "    }\n",
    "    # Add the dictionary to the list\n",
    "    news_list.append(news_dict)"
   ]
  },
  {
   "cell_type": "code",
   "execution_count": 11,
   "id": "efaac985-84a3-4703-aa8a-1f1d22bfa48d",
   "metadata": {
    "scrolled": true
   },
   "outputs": [
    {
     "name": "stdout",
     "output_type": "stream",
     "text": [
      "[\n",
      "    {\n",
      "        \"title\": \"NASA's MAVEN Observes Martian Light Show Caused by Major Solar Storm\",\n",
      "        \"preview\": \"For the first time in its eight years orbiting Mars, NASA\\u2019s MAVEN mission witnessed two different types of ultraviolet aurorae simultaneously, the result of solar storms that began on Aug. 27.\"\n",
      "    },\n",
      "    {\n",
      "        \"title\": \"NASA Prepares to Say 'Farewell' to InSight Spacecraft\",\n",
      "        \"preview\": \"A closer look at what goes into wrapping up the mission as the spacecraft\\u2019s power supply continues to dwindle.\"\n",
      "    },\n",
      "    {\n",
      "        \"title\": \"NASA and ESA Agree on Next Steps to Return Mars Samples to Earth\",\n",
      "        \"preview\": \"The agency\\u2019s Perseverance rover will establish the first sample depot on Mars.\"\n",
      "    },\n",
      "    {\n",
      "        \"title\": \"NASA's InSight Lander Detects Stunning Meteoroid Impact on Mars\",\n",
      "        \"preview\": \"The agency\\u2019s lander felt the ground shake during the impact while cameras aboard the Mars Reconnaissance Orbiter spotted the yawning new crater from space.\"\n",
      "    },\n",
      "    {\n",
      "        \"title\": \"NASA To Host Briefing on InSight, Mars Reconnaissance Orbiter Findings\",\n",
      "        \"preview\": \"Scientists from two Mars missions will discuss how they combined images and data for a major finding on the Red Planet.\"\n",
      "    },\n",
      "    {\n",
      "        \"title\": \"Why NASA Is Trying To Crash Land on Mars\",\n",
      "        \"preview\": \"Like a car\\u2019s crumple zone, the experimental SHIELD lander is designed to absorb a hard impact.\"\n",
      "    },\n",
      "    {\n",
      "        \"title\": \"Curiosity Mars Rover Reaches Long-Awaited Salty Region\",\n",
      "        \"preview\": \"After years of climbing, the Mars rover has arrived at a special region believed to have formed as Mars\\u2019 climate was drying.\"\n",
      "    },\n",
      "    {\n",
      "        \"title\": \"Mars Mission Shields Up for Tests\",\n",
      "        \"preview\": \"Protecting Mars Sample Return spacecraft from micrometeorites requires high-caliber work.\"\n",
      "    },\n",
      "    {\n",
      "        \"title\": \"NASA's InSight Waits Out Dust Storm\",\n",
      "        \"preview\": \"InSight\\u2019s team is taking steps to help the solar-powered lander continue operating for as long as possible.\"\n",
      "    },\n",
      "    {\n",
      "        \"title\": \"NASA's InSight 'Hears' Its First Meteoroid Impacts on Mars\",\n",
      "        \"preview\": \"The Mars lander\\u2019s seismometer has picked up vibrations from four separate impacts in the past two years.\"\n",
      "    },\n",
      "    {\n",
      "        \"title\": \"NASA's Perseverance Rover Investigates Geologically Rich Mars Terrain\",\n",
      "        \"preview\": \"The latest findings provide greater detail on a region of the Red Planet that has a watery past and is yielding promising samples for the NASA-ESA Mars Sample Return campaign.\"\n",
      "    },\n",
      "    {\n",
      "        \"title\": \"NASA to Host Briefing on Perseverance Mars Rover Mission Operations\",\n",
      "        \"preview\": \"Members of the mission will discuss the rover\\u2019s activities as it gathers samples in an ancient river delta.\"\n",
      "    },\n",
      "    {\n",
      "        \"title\": \"NASA's Perseverance Makes New Discoveries in Mars' Jezero Crater\",\n",
      "        \"preview\": \"The rover found that Jezero Crater\\u2019s floor is made up of volcanic rocks that have interacted with water.\"\n",
      "    },\n",
      "    {\n",
      "        \"title\": \"10 Years Since Landing, NASA's Curiosity Mars Rover Still Has Drive\",\n",
      "        \"preview\": \"Despite signs of wear, the intrepid spacecraft is about to start an exciting new chapter of its mission as it climbs a Martian mountain.\"\n",
      "    },\n",
      "    {\n",
      "        \"title\": \"SAM's Top 5 Discoveries Aboard NASA's Curiosity Rover at Mars\",\n",
      "        \"preview\": \"\\u201cSelfie\\u201d of the Curiosity rover with inset showing the SAM instrument prior to installation on the rover.\"\n",
      "    }\n",
      "]\n"
     ]
    }
   ],
   "source": [
    "# Print the list to confirm success\n",
    "# print(news_list) does note yield an easy to read output\n",
    "print(json.dumps(news_list, indent=4))"
   ]
  },
  {
   "cell_type": "code",
   "execution_count": 12,
   "id": "11ca882d-327d-410c-a719-967108d4ba0b",
   "metadata": {},
   "outputs": [],
   "source": [
    "browser.quit()"
   ]
  }
 ],
 "metadata": {
  "kernelspec": {
   "display_name": "Python 3 (ipykernel)",
   "language": "python",
   "name": "python3"
  },
  "language_info": {
   "codemirror_mode": {
    "name": "ipython",
    "version": 3
   },
   "file_extension": ".py",
   "mimetype": "text/x-python",
   "name": "python",
   "nbconvert_exporter": "python",
   "pygments_lexer": "ipython3",
   "version": "3.10.15"
  }
 },
 "nbformat": 4,
 "nbformat_minor": 5
}
